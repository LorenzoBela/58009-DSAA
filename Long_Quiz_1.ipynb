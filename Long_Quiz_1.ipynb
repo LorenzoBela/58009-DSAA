{
  "nbformat": 4,
  "nbformat_minor": 0,
  "metadata": {
    "colab": {
      "provenance": [],
      "authorship_tag": "ABX9TyNIcTAs5aUmLCBiFIw65Cy7",
      "include_colab_link": true
    },
    "kernelspec": {
      "name": "python3",
      "display_name": "Python 3"
    },
    "language_info": {
      "name": "python"
    }
  },
  "cells": [
    {
      "cell_type": "markdown",
      "metadata": {
        "id": "view-in-github",
        "colab_type": "text"
      },
      "source": [
        "<a href=\"https://colab.research.google.com/github/LorenzoBela/58009-DSAA/blob/main/Long_Quiz_1.ipynb\" target=\"_parent\"><img src=\"https://colab.research.google.com/assets/colab-badge.svg\" alt=\"Open In Colab\"/></a>"
      ]
    },
    {
      "cell_type": "code",
      "source": [
        "def main():\n",
        "    name = input(\"Enter your Full Name: \")\n",
        "    stack = []\n",
        "    reversed_name = \"\"\n",
        "\n",
        "    for char in name[::-1]:\n",
        "        stack.append(char)\n",
        "        print(\"\\nPush\", char)\n",
        "\n",
        "    for char in stack:\n",
        "        reversed_name += char\n",
        "\n",
        "    print(\"\\nYour Full Reversed Name:\", reversed_name)\n",
        "\n",
        "if __name__ == \"__main__\":\n",
        "    main()\n"
      ],
      "metadata": {
        "colab": {
          "base_uri": "https://localhost:8080/"
        },
        "id": "LUMQh8GS8bYX",
        "outputId": "69e6febb-efeb-4209-d780-e34b2c58d474"
      },
      "execution_count": 43,
      "outputs": [
        {
          "output_type": "stream",
          "name": "stdout",
          "text": [
            "Enter your Full Name: Lorenzo Miguel D. Bela\n",
            "\n",
            "Push a\n",
            "\n",
            "Push l\n",
            "\n",
            "Push e\n",
            "\n",
            "Push B\n",
            "\n",
            "Push  \n",
            "\n",
            "Push .\n",
            "\n",
            "Push D\n",
            "\n",
            "Push  \n",
            "\n",
            "Push l\n",
            "\n",
            "Push e\n",
            "\n",
            "Push u\n",
            "\n",
            "Push g\n",
            "\n",
            "Push i\n",
            "\n",
            "Push M\n",
            "\n",
            "Push  \n",
            "\n",
            "Push o\n",
            "\n",
            "Push z\n",
            "\n",
            "Push n\n",
            "\n",
            "Push e\n",
            "\n",
            "Push r\n",
            "\n",
            "Push o\n",
            "\n",
            "Push L\n",
            "\n",
            "Your Full Reversed Name: aleB .D leugiM ozneroL\n"
          ]
        }
      ]
    },
    {
      "cell_type": "code",
      "source": [
        "class Node:\n",
        "    def __init__(self, data):\n",
        "        self.data = data\n",
        "        self.next = None\n",
        "\n",
        "def is_prime(n):\n",
        "    return n > 1 and all(n % i != 0 for i in range(2, int(n**0.5) + 1))\n",
        "\n",
        "try:\n",
        "    start, end = map(int, input(\"Enter the range (1-10) as 'start end'. Example: (4 9): \").split())\n",
        "    if 1 <= start <= 10 and 1 <= end <= 10 and start <= end:\n",
        "        linked_list = [f\"{num} (prime)\" if is_prime(num) else f\"{num} (composite)\" for num in range(start, end + 1)]\n",
        "        print(\"Numbers in the range:\", ' '.join(linked_list))\n",
        "    else:\n",
        "        print(\"Invalid input. Please enter a valid range from 1 to 10.\")\n",
        "except ValueError:\n",
        "    print(\"Invalid input. Please enter a valid range from 1 to 10.\")\n"
      ],
      "metadata": {
        "colab": {
          "base_uri": "https://localhost:8080/"
        },
        "id": "g3-1VBGy55YG",
        "outputId": "164e70fd-87cc-427e-bc57-6f364a506156"
      },
      "execution_count": 60,
      "outputs": [
        {
          "output_type": "stream",
          "name": "stdout",
          "text": [
            "Enter the range (1-10) as 'start end'. Example: (4 9): 1 10\n",
            "Numbers in the range: 1 (composite) 2 (prime) 3 (prime) 4 (composite) 5 (prime) 6 (composite) 7 (prime) 8 (composite) 9 (composite) 10 (composite)\n"
          ]
        }
      ]
    }
  ]
}