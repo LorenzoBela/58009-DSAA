{
  "nbformat": 4,
  "nbformat_minor": 0,
  "metadata": {
    "colab": {
      "provenance": [],
      "authorship_tag": "ABX9TyO1IcOLAssd1DicwHm8FW8X",
      "include_colab_link": true
    },
    "kernelspec": {
      "name": "python3",
      "display_name": "Python 3"
    },
    "language_info": {
      "name": "python"
    }
  },
  "cells": [
    {
      "cell_type": "markdown",
      "metadata": {
        "id": "view-in-github",
        "colab_type": "text"
      },
      "source": [
        "<a href=\"https://colab.research.google.com/github/LorenzoBela/58009-DSAA/blob/main/Prelim_Exam.ipynb\" target=\"_parent\"><img src=\"https://colab.research.google.com/assets/colab-badge.svg\" alt=\"Open In Colab\"/></a>"
      ]
    },
    {
      "cell_type": "code",
      "execution_count": 3,
      "metadata": {
        "colab": {
          "base_uri": "https://localhost:8080/"
        },
        "id": "iVA8oeE49CjS",
        "outputId": "1de7f457-8634-49d4-b6d8-39687f0de327"
      },
      "outputs": [
        {
          "output_type": "stream",
          "name": "stdout",
          "text": [
            "Enter test scores separated by commas: 26, 49, 98, 87, 62, 75\n",
            "Original Input: [26, 49, 98, 87, 62, 75]\n",
            "Total scores: 397\n",
            "Sorted scores: [26, 49, 62, 75, 87, 98]\n"
          ]
        }
      ],
      "source": [
        "test_scores = input(\"Enter test scores separated by commas: \").split(',') #I chose to let the user manually input the test scores itself as to give it more options in the future.\n",
        "test_scores = [int(score) for score in test_scores if score.strip().isdigit()]\n",
        "\n",
        "total_scores = sum(test_scores)\n",
        "sorted_scores = sorted(test_scores)\n",
        "\n",
        "print(\"Original Input:\", test_scores)\n",
        "print(\"Total scores:\", total_scores)\n",
        "print(\"Sorted scores:\", sorted_scores)\n"
      ]
    }
  ]
}