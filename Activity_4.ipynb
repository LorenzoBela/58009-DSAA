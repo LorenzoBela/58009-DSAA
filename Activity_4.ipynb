{
  "nbformat": 4,
  "nbformat_minor": 0,
  "metadata": {
    "colab": {
      "provenance": [],
      "authorship_tag": "ABX9TyPb9oQ506eLmWkiM0RlN6JJ",
      "include_colab_link": true
    },
    "kernelspec": {
      "name": "python3",
      "display_name": "Python 3"
    },
    "language_info": {
      "name": "python"
    }
  },
  "cells": [
    {
      "cell_type": "markdown",
      "metadata": {
        "id": "view-in-github",
        "colab_type": "text"
      },
      "source": [
        "<a href=\"https://colab.research.google.com/github/LorenzoBela/58009-DSAA/blob/main/Activity_4.ipynb\" target=\"_parent\"><img src=\"https://colab.research.google.com/assets/colab-badge.svg\" alt=\"Open In Colab\"/></a>"
      ]
    },
    {
      "cell_type": "code",
      "execution_count": 1,
      "metadata": {
        "colab": {
          "base_uri": "https://localhost:8080/"
        },
        "id": "KI1AlztR7sXb",
        "outputId": "e56ea874-abb2-493b-c985-c5052d1ff6fd"
      },
      "outputs": [
        {
          "output_type": "stream",
          "name": "stdout",
          "text": [
            "Welcome to the Custom Sandwich Maker!\n",
            "\n",
            "Choose your option:\n",
            "1. Add topping to sandwich\n",
            "2. Remove topping from sandwich\n",
            "3. View current sandwich\n",
            "4. Finish and enjoy your sandwich\n",
            "Enter your choice (1/2/3/4): 1\n",
            "Enter the topping you want to add: Ham\n",
            "Ham has been added to your sandwich.\n",
            "\n",
            "Choose your option:\n",
            "1. Add topping to sandwich\n",
            "2. Remove topping from sandwich\n",
            "3. View current sandwich\n",
            "4. Finish and enjoy your sandwich\n",
            "Enter your choice (1/2/3/4): 1\n",
            "Enter the topping you want to add: Cheese\n",
            "Cheese has been added to your sandwich.\n",
            "\n",
            "Choose your option:\n",
            "1. Add topping to sandwich\n",
            "2. Remove topping from sandwich\n",
            "3. View current sandwich\n",
            "4. Finish and enjoy your sandwich\n",
            "Enter your choice (1/2/3/4): 3\n",
            "Your current sandwich:\n",
            "Ham\n",
            "Cheese\n",
            "\n",
            "Choose your option:\n",
            "1. Add topping to sandwich\n",
            "2. Remove topping from sandwich\n",
            "3. View current sandwich\n",
            "4. Finish and enjoy your sandwich\n",
            "Enter your choice (1/2/3/4): 4\n",
            "Enjoy your sandwich! Here's what you've created:\n",
            "Ham\n",
            "Cheese\n",
            "Thank you for using the Custom Sandwich Maker. Bon appétit!\n"
          ]
        }
      ],
      "source": [
        "from queue import Queue\n",
        "\n",
        "sandwich_queue = Queue()\n",
        "\n",
        "print(\"Welcome to the Custom Sandwich Maker!\")\n",
        "\n",
        "while True:\n",
        "    print(\"\\nChoose your option:\")\n",
        "    print(\"1. Add topping to sandwich\")\n",
        "    print(\"2. Remove topping from sandwich\")\n",
        "    print(\"3. View current sandwich\")\n",
        "    print(\"4. Finish and enjoy your sandwich\")\n",
        "\n",
        "    choice = input(\"Enter your choice (1/2/3/4): \")\n",
        "\n",
        "    if choice == '1':\n",
        "        topping = input(\"Enter the topping you want to add: \")\n",
        "        sandwich_queue.put(topping)\n",
        "        print(topping + \" has been added to your sandwich.\")\n",
        "    elif choice == '2':\n",
        "        if not sandwich_queue.empty():\n",
        "            removed_topping = sandwich_queue.get()\n",
        "            print(removed_topping + \" has been removed from your sandwich.\")\n",
        "        else:\n",
        "            print(\"Your sandwich is already empty.\")\n",
        "    elif choice == '3':\n",
        "        if not sandwich_queue.empty():\n",
        "            print(\"Your current sandwich:\")\n",
        "            for item in list(sandwich_queue.queue):\n",
        "                print(item)\n",
        "        else:\n",
        "            print(\"Your sandwich is currently empty.\")\n",
        "    elif choice == '4':\n",
        "        print(\"Enjoy your sandwich! Here's what you've created:\")\n",
        "        while not sandwich_queue.empty():\n",
        "            print(sandwich_queue.get())\n",
        "        print(\"Thank you for using the Custom Sandwich Maker. Bon appétit!\")\n",
        "        break\n",
        "    else:\n",
        "        print(\"Invalid choice. Please enter 1, 2, 3, or 4.\")\n"
      ]
    }
  ]
}