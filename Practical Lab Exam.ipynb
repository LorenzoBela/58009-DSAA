{
  "nbformat": 4,
  "nbformat_minor": 0,
  "metadata": {
    "colab": {
      "provenance": [],
      "authorship_tag": "ABX9TyMDr8BeN6gxAIIdPtYWThDO",
      "include_colab_link": true
    },
    "kernelspec": {
      "name": "python3",
      "display_name": "Python 3"
    },
    "language_info": {
      "name": "python"
    }
  },
  "cells": [
    {
      "cell_type": "markdown",
      "metadata": {
        "id": "view-in-github",
        "colab_type": "text"
      },
      "source": [
        "<a href=\"https://colab.research.google.com/github/LorenzoBela/58009-DSAA/blob/main/Practical%20Lab%20Exam.ipynb\" target=\"_parent\"><img src=\"https://colab.research.google.com/assets/colab-badge.svg\" alt=\"Open In Colab\"/></a>"
      ]
    },
    {
      "cell_type": "code",
      "execution_count": 1,
      "metadata": {
        "id": "HFOgEtbEawWe",
        "colab": {
          "base_uri": "https://localhost:8080/"
        },
        "outputId": "88cb7dd9-f9af-45ce-a254-4d5c98733aec"
      },
      "outputs": [
        {
          "output_type": "stream",
          "name": "stdout",
          "text": [
            "The sum of all the odd scores is: 211\n"
          ]
        }
      ],
      "source": [
        "total_sum = 0\n",
        "all_scores = [26, 49, 98, 87, 62, 75]\n",
        "\n",
        "odd_scores_list = [score for score in all_scores if score % 2]\n",
        "total_sum = sum(odd_scores_list)\n",
        "\n",
        "print(\"The sum of all the odd scores is:\", total_sum)\n"
      ]
    }
  ]
}