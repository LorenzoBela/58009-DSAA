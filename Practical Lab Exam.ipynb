{
  "nbformat": 4,
  "nbformat_minor": 0,
  "metadata": {
    "colab": {
      "provenance": [],
      "authorship_tag": "ABX9TyNp8lMS946zTzOhFVmDAuWZ",
      "include_colab_link": true
    },
    "kernelspec": {
      "name": "python3",
      "display_name": "Python 3"
    },
    "language_info": {
      "name": "python"
    }
  },
  "cells": [
    {
      "cell_type": "markdown",
      "metadata": {
        "id": "view-in-github",
        "colab_type": "text"
      },
      "source": [
        "<a href=\"https://colab.research.google.com/github/LorenzoBela/58009-DSAA/blob/main/Practical%20Lab%20Exam.ipynb\" target=\"_parent\"><img src=\"https://colab.research.google.com/assets/colab-badge.svg\" alt=\"Open In Colab\"/></a>"
      ]
    },
    {
      "cell_type": "code",
      "execution_count": 7,
      "metadata": {
        "id": "HFOgEtbEawWe",
        "colab": {
          "base_uri": "https://localhost:8080/"
        },
        "outputId": "a9e91aed-fa3d-42b2-a885-4326965c71d5"
      },
      "outputs": [
        {
          "output_type": "stream",
          "name": "stdout",
          "text": [
            "The sum of all the odd scores is: 211\n"
          ]
        }
      ],
      "source": [
        "total = 0\n",
        "scores = [26, 49, 98, 87, 62, 75]\n",
        "\n",
        "odd_scores = [score for score in scores if score % 2]\n",
        "total = sum(odd_scores)\n",
        "\n",
        "print(\"The sum of all the odd scores is:\", total)\n"
      ]
    }
  ]
}