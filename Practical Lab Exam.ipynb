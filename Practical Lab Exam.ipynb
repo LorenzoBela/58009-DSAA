{
  "nbformat": 4,
  "nbformat_minor": 0,
  "metadata": {
    "colab": {
      "provenance": [],
      "authorship_tag": "ABX9TyO0K3+72Cv7yCjhLrhFcULU",
      "include_colab_link": true
    },
    "kernelspec": {
      "name": "python3",
      "display_name": "Python 3"
    },
    "language_info": {
      "name": "python"
    }
  },
  "cells": [
    {
      "cell_type": "markdown",
      "metadata": {
        "id": "view-in-github",
        "colab_type": "text"
      },
      "source": [
        "<a href=\"https://colab.research.google.com/github/LorenzoBela/58009-DSAA/blob/main/Practical%20Lab%20Exam.ipynb\" target=\"_parent\"><img src=\"https://colab.research.google.com/assets/colab-badge.svg\" alt=\"Open In Colab\"/></a>"
      ]
    },
    {
      "cell_type": "code",
      "execution_count": 2,
      "metadata": {
        "id": "HFOgEtbEawWe",
        "colab": {
          "base_uri": "https://localhost:8080/"
        },
        "outputId": "cd0f6fe1-a01b-41e4-aee9-7a1d03ba2f9a"
      },
      "outputs": [
        {
          "output_type": "stream",
          "name": "stdout",
          "text": [
            "The sum of all the odd scores is: 211\n"
          ]
        }
      ],
      "source": [
        "all_scores = [26, 49, 98, 87, 62, 75]\n",
        "\n",
        "odd_scores_list = [score for score in all_scores if score % 2]\n",
        "total_sum = sum(odd_scores_list)\n",
        "\n",
        "print(\"The sum of all the odd scores is:\", total_sum)\n"
      ]
    }
  ]
}