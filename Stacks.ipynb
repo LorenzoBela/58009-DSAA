{
  "nbformat": 4,
  "nbformat_minor": 0,
  "metadata": {
    "colab": {
      "provenance": [],
      "authorship_tag": "ABX9TyPOP8afk3NV6ra/E03agfiU",
      "include_colab_link": true
    },
    "kernelspec": {
      "name": "python3",
      "display_name": "Python 3"
    },
    "language_info": {
      "name": "python"
    }
  },
  "cells": [
    {
      "cell_type": "markdown",
      "metadata": {
        "id": "view-in-github",
        "colab_type": "text"
      },
      "source": [
        "<a href=\"https://colab.research.google.com/github/LorenzoBela/58009-DSAA/blob/main/Stacks.ipynb\" target=\"_parent\"><img src=\"https://colab.research.google.com/assets/colab-badge.svg\" alt=\"Open In Colab\"/></a>"
      ]
    },
    {
      "cell_type": "code",
      "source": [
        "class Stack:\n",
        "    def __init__(self):\n",
        "        self.stack = []\n",
        "\n",
        "    def add(self, dataval):\n",
        "        # Use list append method to add element\n",
        "        if dataval not in self.stack:\n",
        "            self.stack.append(dataval)\n",
        "            return True\n",
        "        else:\n",
        "            return False"
      ],
      "metadata": {
        "id": "STNF_zizyrSw"
      },
      "execution_count": 8,
      "outputs": []
    },
    {
      "cell_type": "code",
      "execution_count": 22,
      "metadata": {
        "colab": {
          "base_uri": "https://localhost:8080/"
        },
        "id": "LpMQckJBu2H3",
        "outputId": "00ad95f5-7a3b-4132-fd7c-9692688def5c"
      },
      "outputs": [
        {
          "output_type": "stream",
          "name": "stdout",
          "text": [
            "['Mon', 'Tue', 'Wed', 'Thu', 'Fri', 'Sat', 'Sun']\n",
            "Sun\n",
            "['Mon', 'Tue', 'Wed', 'Thu', 'Fri', 'Sat']\n",
            "Sat\n",
            "['Mon', 'Tue', 'Wed', 'Thu', 'Fri']\n",
            "Fri\n",
            "['Mon', 'Tue', 'Wed', 'Thu']\n",
            "Thu\n",
            "['Mon', 'Tue', 'Wed']\n",
            "Wed\n",
            "['Mon', 'Tue']\n",
            "Tue\n",
            "['Mon']\n",
            "Mon\n",
            "[]\n",
            "No element in the Stack\n"
          ]
        }
      ],
      "source": [
        "class Stack:\n",
        "    def __init__(self):\n",
        "        self.stack = []\n",
        "\n",
        "    def add(self, dataval):\n",
        "        self.stack.append(dataval)\n",
        "        return True\n",
        "\n",
        "    def remove(self):\n",
        "        if len(self.stack) <= 0:\n",
        "            return \"No element in the Stack\"\n",
        "        else:\n",
        "            return self.stack.pop()\n",
        "\n",
        "AStack = Stack()\n",
        "AStack.add(\"Mon\")\n",
        "AStack.add(\"Tue\")\n",
        "AStack.add(\"Wed\")\n",
        "AStack.add(\"Thu\")\n",
        "AStack.add(\"Fri\")\n",
        "AStack.add(\"Sat\")\n",
        "AStack.add(\"Sun\")\n",
        "print(AStack.stack)\n",
        "print(AStack.remove())\n",
        "print(AStack.stack)\n",
        "print(AStack.remove())\n",
        "print(AStack.stack)\n",
        "print(AStack.remove())\n",
        "print(AStack.stack)\n",
        "print(AStack.remove())\n",
        "print(AStack.stack)\n",
        "print(AStack.remove())\n",
        "print(AStack.stack)\n",
        "print(AStack.remove())\n",
        "print(AStack.stack)\n",
        "print(AStack.remove())\n",
        "print(AStack.stack)\n",
        "print(AStack.remove())\n",
        "\n"
      ]
    },
    {
      "cell_type": "code",
      "source": [
        "# Stack implementation in Python\n",
        "\n",
        "# Creating a stack\n",
        "def create_stack():\n",
        "    stack = []\n",
        "    return stack\n",
        "\n",
        "# Creating an empty stack\n",
        "def is_empty(stack):\n",
        "    return len(stack) == 0\n",
        "\n",
        "# Adding items into the stack\n",
        "def push(stack, item):\n",
        "    stack.append(item)\n",
        "    print(\"Pushed Element: \" + item)\n",
        "\n",
        "# Removing an element from the stack\n",
        "def pop(stack):\n",
        "    if is_empty(stack):\n",
        "        return \"The stack is empty\"\n",
        "    return stack.pop()\n",
        "\n",
        "stack = create_stack()\n",
        "\n",
        "push(stack, str(1))\n",
        "push(stack, str(2))\n",
        "push(stack, str(3))\n",
        "push(stack, str(4))\n",
        "push(stack, str(5))\n",
        "\n",
        "print(\"The elements in the stack are: \" + str(stack))\n"
      ],
      "metadata": {
        "colab": {
          "base_uri": "https://localhost:8080/"
        },
        "id": "LsMGCNbY3ctU",
        "outputId": "f81549a2-6d73-4cca-f7e4-aabc3ca84ae6"
      },
      "execution_count": 25,
      "outputs": [
        {
          "output_type": "stream",
          "name": "stdout",
          "text": [
            "Pushed Element: 1\n",
            "Pushed Element: 2\n",
            "Pushed Element: 3\n",
            "Pushed Element: 4\n",
            "Pushed Element: 5\n",
            "The elements in the stack are: ['1', '2', '3', '4', '5']\n"
          ]
        }
      ]
    },
    {
      "cell_type": "code",
      "source": [
        "# Stack implementation in python\n",
        "\n",
        "# Creating a stack\n",
        "def create_stack():\n",
        "    stack = []\n",
        "    return stack\n",
        "\n",
        "# Creating an empty stack\n",
        "def is_empty(stack):\n",
        "    return len(stack) == 0\n",
        "\n",
        "# Adding items into the stack\n",
        "def push(stack, item):\n",
        "    stack.append(item)\n",
        "    print(\"Pushed Element: \" + item)\n",
        "\n",
        "# Removing an element from the stack\n",
        "def pop(stack):\n",
        "    if (is_empty(stack)):\n",
        "        return \"The stack is empty\"\n",
        "    return stack.pop()\n",
        "\n",
        "stack = create_stack()\n",
        "\n",
        "push(stack, str(1))\n",
        "push(stack, str(2))\n",
        "push(stack, str(3))\n",
        "push(stack, str(4))\n",
        "push(stack, str(5))\n",
        "pop(stack)\n",
        "pop(stack)\n",
        "pop(stack)\n",
        "\n",
        "print(\"The elements in the stack are: \" + str(stack))\n",
        "length = len(stack)\n",
        "print(\"Stack length is:\", length)\n"
      ],
      "metadata": {
        "colab": {
          "base_uri": "https://localhost:8080/"
        },
        "id": "QBxofGh75grw",
        "outputId": "dbfd0768-6243-4f2d-b595-f4432b0e2cdd"
      },
      "execution_count": 31,
      "outputs": [
        {
          "output_type": "stream",
          "name": "stdout",
          "text": [
            "Pushed Element: 1\n",
            "Pushed Element: 2\n",
            "Pushed Element: 3\n",
            "Pushed Element: 4\n",
            "Pushed Element: 5\n",
            "The elements in the stack are: ['1', '2']\n",
            "Stack length is: 2\n"
          ]
        }
      ]
    }
  ]
}