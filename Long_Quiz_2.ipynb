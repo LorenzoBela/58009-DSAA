{
  "nbformat": 4,
  "nbformat_minor": 0,
  "metadata": {
    "colab": {
      "provenance": [],
      "authorship_tag": "ABX9TyNWAL5I+/N4SUFg5djR578h",
      "include_colab_link": true
    },
    "kernelspec": {
      "name": "python3",
      "display_name": "Python 3"
    },
    "language_info": {
      "name": "python"
    }
  },
  "cells": [
    {
      "cell_type": "markdown",
      "metadata": {
        "id": "view-in-github",
        "colab_type": "text"
      },
      "source": [
        "<a href=\"https://colab.research.google.com/github/LorenzoBela/58009-DSAA/blob/main/Long_Quiz_2.ipynb\" target=\"_parent\"><img src=\"https://colab.research.google.com/assets/colab-badge.svg\" alt=\"Open In Colab\"/></a>"
      ]
    },
    {
      "cell_type": "code",
      "source": [
        "class Graph:\n",
        "    def __init__(self):\n",
        "        self.graph = {}\n",
        "\n",
        "    def add_vertex(self, vertex):\n",
        "        if vertex not in self.graph:\n",
        "            self.graph[vertex] = []\n",
        "\n",
        "    def add_edge(self, start_vertex, end_vertex):\n",
        "        if start_vertex in self.graph and end_vertex in self.graph:\n",
        "            self.graph[start_vertex].append(end_vertex)\n",
        "            self.graph[end_vertex].append(start_vertex)\n",
        "\n",
        "    def get_edges(self):\n",
        "        edges = []\n",
        "        for vertex in self.graph:\n",
        "            for neighbor in self.graph[vertex]:\n",
        "                edge = (vertex, neighbor)\n",
        "                if edge not in edges:\n",
        "                    edges.append(edge)\n",
        "        return edges\n",
        "\n",
        "    def count_vertices(self):\n",
        "        return len(self.graph)\n",
        "\n",
        "    def count_edges(self):\n",
        "        return len(self.get_edges())\n",
        "\n",
        "my_graph = Graph()\n",
        "graph_elements = {\n",
        "    'H': ['I', 'J', 'K'],\n",
        "    'I': ['E', 'F', 'H'],\n",
        "    'J': ['E', 'F', 'H'],\n",
        "    'E': ['I', 'J', 'K', 'M'],\n",
        "    'K': ['E', 'H', 'F'],\n",
        "    'F': ['K', 'I', 'J', 'P'],\n",
        "    'M': ['E'],\n",
        "    'P': ['F']\n",
        "}\n",
        "\n",
        "for vertex, neighbors in graph_elements.items():\n",
        "    my_graph.add_vertex(vertex)\n",
        "    for neighbor in neighbors:\n",
        "        my_graph.add_edge(vertex, neighbor)\n",
        "\n",
        "print(\"Vertices:\", list(my_graph.graph.keys()))\n",
        "print(\"Edges:\", my_graph.get_edges())\n",
        "total_vertices = my_graph.count_vertices()\n",
        "total_edges = my_graph.count_edges()\n",
        "print(\"Total Vertices:\", total_vertices)\n",
        "print(\"Total Edges:\", total_edges)\n"
      ],
      "metadata": {
        "id": "PPjggCqYulca",
        "colab": {
          "base_uri": "https://localhost:8080/"
        },
        "outputId": "0cf2d32e-a671-44ce-9496-70da787f6264"
      },
      "execution_count": 7,
      "outputs": [
        {
          "output_type": "stream",
          "name": "stdout",
          "text": [
            "Vertices: ['H', 'I', 'J', 'E', 'K', 'F', 'M', 'P']\n",
            "Edges: [('H', 'I'), ('H', 'J'), ('H', 'K'), ('I', 'H'), ('I', 'E'), ('I', 'F'), ('J', 'H'), ('J', 'E'), ('J', 'F'), ('E', 'I'), ('E', 'J'), ('E', 'K'), ('E', 'M'), ('K', 'E'), ('K', 'H'), ('K', 'F'), ('F', 'K'), ('F', 'I'), ('F', 'J'), ('F', 'P'), ('M', 'E'), ('P', 'F')]\n",
            "Total Vertices: 8\n",
            "Total Edges: 22\n"
          ]
        }
      ]
    }
  ]
}