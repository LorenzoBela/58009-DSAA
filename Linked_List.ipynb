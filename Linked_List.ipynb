{
  "nbformat": 4,
  "nbformat_minor": 0,
  "metadata": {
    "colab": {
      "provenance": [],
      "authorship_tag": "ABX9TyOotQCYjVQekG6O/ne54Ahf",
      "include_colab_link": true
    },
    "kernelspec": {
      "name": "python3",
      "display_name": "Python 3"
    },
    "language_info": {
      "name": "python"
    }
  },
  "cells": [
    {
      "cell_type": "markdown",
      "metadata": {
        "id": "view-in-github",
        "colab_type": "text"
      },
      "source": [
        "<a href=\"https://colab.research.google.com/github/LorenzoBela/58009-DSAA/blob/main/Linked_List.ipynb\" target=\"_parent\"><img src=\"https://colab.research.google.com/assets/colab-badge.svg\" alt=\"Open In Colab\"/></a>"
      ]
    },
    {
      "cell_type": "code",
      "execution_count": 1,
      "metadata": {
        "colab": {
          "base_uri": "https://localhost:8080/"
        },
        "id": "ZjT7b_Z5vlCc",
        "outputId": "05f4ca2f-4961-47a1-8011-1b672cf0645c"
      },
      "outputs": [
        {
          "output_type": "stream",
          "name": "stdout",
          "text": [
            "Typecodes: bBuhHiIlLqQfd\n",
            "Typecode of a: i\n",
            "Typecode of b: f\n"
          ]
        }
      ],
      "source": [
        "import array\n",
        "\n",
        "# Get all typecodes\n",
        "typecodes = array.typecodes\n",
        "\n",
        "# Initializing array a with integer values\n",
        "a = array.array('i', [1, 2, 3, 4, 5, 6])\n",
        "\n",
        "# Initializing array b with floating-point values\n",
        "b = array.array('f', [1.5, 2.5, 3.5, 4.5, 5.5, 6.5])\n",
        "\n",
        "# Getting the typecode of a and b\n",
        "a_typecode = a.typecode\n",
        "b_typecode = b.typecode\n",
        "\n",
        "print(\"Typecodes:\", typecodes)\n",
        "print(\"Typecode of a:\", a_typecode)\n",
        "print(\"Typecode of b:\", b_typecode)\n"
      ]
    },
    {
      "cell_type": "code",
      "source": [
        "from array import array\n",
        "\n",
        "a = array('i', [4, 5, 6, 7])\n",
        "a.insert(1, 2)\n",
        "print(a)\n",
        "\n",
        "a.insert(-1, 0)\n",
        "print(a)\n",
        "\n",
        "try:\n",
        "    a.insert(10, -1)\n",
        "except IndexError as e:\n",
        "    print(f\"Error: {e}\")\n",
        "\n",
        "print(a)\n"
      ],
      "metadata": {
        "colab": {
          "base_uri": "https://localhost:8080/"
        },
        "id": "K01Nb_zqyi_T",
        "outputId": "9748622a-f3bd-457a-d2bc-bdde93b5a3a1"
      },
      "execution_count": 2,
      "outputs": [
        {
          "output_type": "stream",
          "name": "stdout",
          "text": [
            "array('i', [4, 2, 5, 6, 7])\n",
            "array('i', [4, 2, 5, 6, 0, 7])\n",
            "array('i', [4, 2, 5, 6, 0, 7, -1])\n"
          ]
        }
      ]
    },
    {
      "cell_type": "code",
      "source": [
        "class Node:\n",
        "    def __init__(self, data):\n",
        "        self.data = data\n",
        "        self.next = None\n",
        "\n",
        "class LinkedList:\n",
        "    def __init__(self):\n",
        "        self.head = None\n"
      ],
      "metadata": {
        "id": "qD7-izH7y_gw"
      },
      "execution_count": 3,
      "outputs": []
    },
    {
      "cell_type": "code",
      "source": [
        "# Node class\n",
        "class Node:\n",
        "    # Function to initialize the node object\n",
        "    def __init__(self, data):\n",
        "        self.data = data  # Assign data\n",
        "        self.next = None  # Initialize next as null\n",
        "\n",
        "# Linked List class contains a Node object\n",
        "class LinkedList:\n",
        "    # Function to initialize head\n",
        "    def __init__(self):\n",
        "        self.head = None\n",
        "\n",
        "    # Function to print the linked list\n",
        "    def print_list(self):\n",
        "        temp = self.head\n",
        "        while temp:\n",
        "            print(temp.data)\n",
        "            temp = temp.next\n",
        "\n",
        "# Usage example:\n",
        "if __name__ == \"__main__\":\n",
        "    # Create a linked list\n",
        "    llist = LinkedList()\n",
        "\n",
        "    # Add some elements to the linked list\n",
        "    llist.head = Node(1)\n",
        "    second = Node(2)\n",
        "    third = Node(3)\n",
        "\n",
        "    llist.head.next = second\n",
        "    second.next = third\n",
        "\n",
        "    # Print the linked list\n",
        "    llist.print_list()\n"
      ],
      "metadata": {
        "colab": {
          "base_uri": "https://localhost:8080/"
        },
        "id": "8J86_E7A1jhB",
        "outputId": "a78215e0-dd89-488d-d854-e9bf281df677"
      },
      "execution_count": 6,
      "outputs": [
        {
          "output_type": "stream",
          "name": "stdout",
          "text": [
            "1\n",
            "2\n",
            "3\n"
          ]
        }
      ]
    },
    {
      "cell_type": "code",
      "source": [
        "# A simple Python program to introduce alinked list\n",
        "# Node class\n",
        "class Node:\n",
        "\t# Function to initialize the node object\n",
        "\tdef __init__(self, data):\n",
        "\t\tself.data = data # Assign data\n",
        "\t\tself.next = None # Initialize next as null\n",
        "# Linked List class contains a Node object\n",
        "class LinkedList:\n",
        "\t# Function to initialize head\n",
        "\tdef __init__(self):\n",
        "\t\tself.head = None\n",
        "\n",
        "def printlist(self):\n",
        "    temp = self.head\n",
        "    while temp:\n",
        "        print(temp.data)\n",
        "        temp = temp.next\n",
        "    llist.printlist()"
      ],
      "metadata": {
        "id": "wy_S-ybg1qT6"
      },
      "execution_count": 7,
      "outputs": []
    },
    {
      "cell_type": "code",
      "source": [
        "# Code execution starts here\n",
        "if __name__ == '__main__':\n",
        "    # Start with an empty list\n",
        "    llist = LinkedList()\n",
        "    llist.head = Node(1)\n",
        "    second = Node(2)\n",
        "    third = Node(3)\n",
        "\n",
        "    llist.head.next = second  # Link the first node with the second\n",
        "    second.next = third  # Link the second node with the third\n"
      ],
      "metadata": {
        "id": "8EaBb0Ax4JK7"
      },
      "execution_count": 9,
      "outputs": []
    }
  ]
}