{
  "nbformat": 4,
  "nbformat_minor": 0,
  "metadata": {
    "colab": {
      "provenance": [],
      "authorship_tag": "ABX9TyNjIObpA/I2faumhxk2W+CF",
      "include_colab_link": true
    },
    "kernelspec": {
      "name": "python3",
      "display_name": "Python 3"
    },
    "language_info": {
      "name": "python"
    }
  },
  "cells": [
    {
      "cell_type": "markdown",
      "metadata": {
        "id": "view-in-github",
        "colab_type": "text"
      },
      "source": [
        "<a href=\"https://colab.research.google.com/github/LorenzoBela/58009-DSAA/blob/main/Activity_1.ipynb\" target=\"_parent\"><img src=\"https://colab.research.google.com/assets/colab-badge.svg\" alt=\"Open In Colab\"/></a>"
      ]
    },
    {
      "cell_type": "code",
      "execution_count": 13,
      "metadata": {
        "id": "HFOgEtbEawWe",
        "colab": {
          "base_uri": "https://localhost:8080/"
        },
        "outputId": "f39843b7-5e88-4642-ad9b-5113028c134a"
      },
      "outputs": [
        {
          "output_type": "stream",
          "name": "stdout",
          "text": [
            "Array items: [12, 32, 23, 74, 65, 69, 47, 98, 29, 110]\n",
            "Sum of array elements: 559\n"
          ]
        }
      ],
      "source": [
        "#1\n",
        "\n",
        "numbers = [12, 32, 23, 74, 65, 69, 47, 98, 29, 110]\n",
        "print(\"Array items:\", numbers)\n",
        "array_sum = sum(numbers)\n",
        "print(\"Sum of array elements:\", array_sum)\n"
      ]
    },
    {
      "cell_type": "code",
      "source": [
        "#2\n",
        "\n",
        "numbers = [1, 2, 3, 4, 5, 6, 7, 8, 9, 10]\n",
        "new_item = 16\n",
        "numbers.append(new_item)\n",
        "print(\"Updated array:\", numbers)"
      ],
      "metadata": {
        "colab": {
          "base_uri": "https://localhost:8080/"
        },
        "id": "drEZcaGzkMth",
        "outputId": "f3e3ff30-9374-42a6-9d31-f942f0d1d007"
      },
      "execution_count": 5,
      "outputs": [
        {
          "output_type": "stream",
          "name": "stdout",
          "text": [
            "Updated array: [1, 2, 3, 4, 5, 6, 7, 8, 9, 10, 16]\n"
          ]
        }
      ]
    },
    {
      "cell_type": "code",
      "source": [
        "#3\n",
        "\n",
        "numbers = [1, 2, 3, 4, 5, 6, 7, 8, 9, 10]\n",
        "numbers.insert(1, 99)\n",
        "print(\"Updated array:\", numbers)"
      ],
      "metadata": {
        "colab": {
          "base_uri": "https://localhost:8080/"
        },
        "id": "KNFbR6jykx9s",
        "outputId": "5bb955fc-478c-4446-b57e-199d31c6d44c"
      },
      "execution_count": 10,
      "outputs": [
        {
          "output_type": "stream",
          "name": "stdout",
          "text": [
            "Updated array: [1, 99, 2, 3, 4, 5, 6, 7, 8, 9, 10]\n"
          ]
        }
      ]
    },
    {
      "cell_type": "code",
      "source": [
        "#4\n",
        "\n",
        "numbers = [5, 4, 3, 2, 1]\n",
        "numbers.reverse()\n",
        "print(\"Reversed array:\", numbers)"
      ],
      "metadata": {
        "colab": {
          "base_uri": "https://localhost:8080/"
        },
        "id": "rTJx_WMWlnfG",
        "outputId": "c7c3a3b8-09da-46a7-bd2c-7713c64bee29"
      },
      "execution_count": 11,
      "outputs": [
        {
          "output_type": "stream",
          "name": "stdout",
          "text": [
            "Reversed array: [1, 2, 3, 4, 5]\n"
          ]
        }
      ]
    },
    {
      "cell_type": "code",
      "source": [
        "#5\n",
        "\n",
        "numbers = [5, 4, 3, 2, 1]\n",
        "array_length = len(numbers)\n",
        "print(\"Length of the array:\", array_length)\n"
      ],
      "metadata": {
        "colab": {
          "base_uri": "https://localhost:8080/"
        },
        "id": "bwKtBPXflyMN",
        "outputId": "1a3a6161-de30-4957-fd8a-e541e6b0f60d"
      },
      "execution_count": 12,
      "outputs": [
        {
          "output_type": "stream",
          "name": "stdout",
          "text": [
            "Length of the array: 5\n"
          ]
        }
      ]
    }
  ]
}