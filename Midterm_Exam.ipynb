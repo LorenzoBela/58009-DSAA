{
  "nbformat": 4,
  "nbformat_minor": 0,
  "metadata": {
    "colab": {
      "provenance": [],
      "authorship_tag": "ABX9TyOQ9S2kahbR4EQXrpHi2PnQ",
      "include_colab_link": true
    },
    "kernelspec": {
      "name": "python3",
      "display_name": "Python 3"
    },
    "language_info": {
      "name": "python"
    }
  },
  "cells": [
    {
      "cell_type": "markdown",
      "metadata": {
        "id": "view-in-github",
        "colab_type": "text"
      },
      "source": [
        "<a href=\"https://colab.research.google.com/github/LorenzoBela/58009-DSAA/blob/main/Midterm_Exam.ipynb\" target=\"_parent\"><img src=\"https://colab.research.google.com/assets/colab-badge.svg\" alt=\"Open In Colab\"/></a>"
      ]
    },
    {
      "cell_type": "code",
      "execution_count": 19,
      "metadata": {
        "colab": {
          "base_uri": "https://localhost:8080/"
        },
        "id": "dR-YNiQWA7_D",
        "outputId": "d0cc7d75-3b4e-4375-c7ff-4f5aae47dc12"
      },
      "outputs": [
        {
          "output_type": "stream",
          "name": "stdout",
          "text": [
            "Vertices: ['A', 'B', 'E', 'N', 'O', 'M', 'P', 'L', 'C', 'D', 'F', 'K', 'I', 'G', 'J']\n",
            "Edges: [('A', 'B'), ('B', 'A'), ('B', 'E'), ('B', 'F'), ('E', 'B'), ('E', 'N'), ('E', 'C'), ('N', 'E'), ('N', 'O'), ('N', 'M'), ('O', 'N'), ('O', 'M'), ('O', 'P'), ('M', 'N'), ('M', 'O'), ('M', 'P'), ('M', 'L'), ('M', 'C'), ('P', 'O'), ('P', 'M'), ('P', 'L'), ('L', 'P'), ('L', 'M'), ('L', 'D'), ('C', 'E'), ('C', 'M'), ('C', 'D'), ('C', 'F'), ('D', 'C'), ('D', 'L'), ('D', 'K'), ('F', 'B'), ('F', 'C'), ('F', 'I'), ('F', 'G'), ('K', 'D'), ('K', 'I'), ('K', 'J'), ('I', 'F'), ('I', 'K'), ('I', 'G'), ('I', 'J'), ('G', 'F'), ('G', 'I'), ('G', 'J'), ('J', 'K'), ('J', 'I'), ('J', 'G')]\n",
            "Total Vertices: 15\n",
            "Total Edges: 48\n"
          ]
        }
      ],
      "source": [
        "class Graph:\n",
        "    def __init__(self):\n",
        "        self.graph = {}\n",
        "\n",
        "    def add_vertex(self, vertex):\n",
        "        if vertex not in self.graph:\n",
        "            self.graph[vertex] = []\n",
        "\n",
        "    def add_edge(self, start_vertex, end_vertex):\n",
        "        if start_vertex in self.graph and end_vertex in self.graph:\n",
        "            self.graph[start_vertex].append(end_vertex)\n",
        "            self.graph[end_vertex].append(start_vertex)\n",
        "\n",
        "    def get_edges(self):\n",
        "        edges = []\n",
        "        for vertex in self.graph:\n",
        "            for neighbor in self.graph[vertex]:\n",
        "                edge = (vertex, neighbor)\n",
        "                if edge not in edges:\n",
        "                    edges.append(edge)\n",
        "        return edges\n",
        "\n",
        "    def count_vertices(self):\n",
        "        return len(self.graph)\n",
        "\n",
        "    def count_edges(self):\n",
        "        return len(self.get_edges())\n",
        "\n",
        "my_graph = Graph()\n",
        "graph_elements = {\n",
        "    'A': ['B'],\n",
        "    'B': ['E', 'C', 'F','A'],\n",
        "    'E': ['B', 'C', 'N'],\n",
        "    'N': ['E', 'M', 'O'],\n",
        "    'O': ['N', 'M', 'P'],\n",
        "    'M': ['N','O','P','L','C'],\n",
        "    'P': ['O','M','L'],\n",
        "    'L': ['P', 'M', 'D'],\n",
        "    'C': ['E', 'M', 'F','I'],\n",
        "    'D': ['C', 'L', 'K'],\n",
        "    'F': ['B', 'C', 'I','G'],\n",
        "    'K': ['D', 'I', 'J'],\n",
        "    'I': ['F', 'K', 'G','J'],\n",
        "    'G': ['F', 'I', 'J'],\n",
        "    'J': ['K', 'I', 'G'],\n",
        "}\n",
        "\n",
        "for vertex, neighbors in graph_elements.items():\n",
        "    my_graph.add_vertex(vertex)\n",
        "    for neighbor in neighbors:\n",
        "        my_graph.add_edge(vertex, neighbor)\n",
        "\n",
        "print(\"Vertices:\", list(my_graph.graph.keys()))\n",
        "print(\"Edges:\", my_graph.get_edges())\n",
        "total_vertices = my_graph.count_vertices()\n",
        "total_edges = my_graph.count_edges()\n",
        "print(\"Total Vertices:\", total_vertices)\n",
        "print(\"Total Edges:\", total_edges)\n"
      ]
    }
  ]
}