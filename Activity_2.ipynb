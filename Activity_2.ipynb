{
  "nbformat": 4,
  "nbformat_minor": 0,
  "metadata": {
    "colab": {
      "provenance": [],
      "authorship_tag": "ABX9TyMqiSb1Fotwz5fBj9whPEcQ",
      "include_colab_link": true
    },
    "kernelspec": {
      "name": "python3",
      "display_name": "Python 3"
    },
    "language_info": {
      "name": "python"
    }
  },
  "cells": [
    {
      "cell_type": "markdown",
      "metadata": {
        "id": "view-in-github",
        "colab_type": "text"
      },
      "source": [
        "<a href=\"https://colab.research.google.com/github/LorenzoBela/58009-DSAA/blob/main/Activity_2.ipynb\" target=\"_parent\"><img src=\"https://colab.research.google.com/assets/colab-badge.svg\" alt=\"Open In Colab\"/></a>"
      ]
    },
    {
      "cell_type": "code",
      "execution_count": 11,
      "metadata": {
        "colab": {
          "base_uri": "https://localhost:8080/"
        },
        "id": "TXwkisX0XH17",
        "outputId": "c6af5891-5a95-461d-e982-89801b78bbf3"
      },
      "outputs": [
        {
          "output_type": "stream",
          "name": "stdout",
          "text": [
            "Prime Numbers List:\n",
            "2 3 5 7 11 13 17 19 \n",
            "Value of the Head: 2\n",
            "Value of the Tail: 19\n"
          ]
        }
      ],
      "source": [
        "class Element:\n",
        "    def __init__(self, value):\n",
        "        self.value = value\n",
        "        self.next_element = None\n",
        "\n",
        "def is_prime_number(number):\n",
        "    if number <= 1:\n",
        "        return False\n",
        "    if number == 2:\n",
        "        return True\n",
        "    if number % 2 == 0:\n",
        "        return False\n",
        "    for i in range(3, int(number**0.5) + 1, 2):\n",
        "        if number % i == 0:\n",
        "            return False\n",
        "    return True\n",
        "\n",
        "def create_prime_linked_list():\n",
        "    prime_numbers_list = [n for n in range(2, 20) if is_prime_number(n)]\n",
        "\n",
        "    if not prime_numbers_list:\n",
        "        return None  # No prime numbers found\n",
        "\n",
        "    head_element = Element(prime_numbers_list[0])\n",
        "    current_element = head_element\n",
        "\n",
        "    for number in prime_numbers_list[1:]:\n",
        "        current_element.next_element = Element(number)\n",
        "        current_element = current_element.next_element\n",
        "\n",
        "    return head_element\n",
        "\n",
        "def display_linked_list(head_element):\n",
        "    current_element = head_element\n",
        "    while current_element:\n",
        "        print(current_element.value, end=\" \")\n",
        "        current_element = current_element.next_element\n",
        "    print()\n",
        "\n",
        "prime_head = create_prime_linked_list()\n",
        "print(\"Prime Numbers List:\")\n",
        "display_linked_list(prime_head)\n",
        "\n",
        "if prime_head:\n",
        "    current_element = prime_head\n",
        "    while current_element.next_element:\n",
        "        current_element = current_element.next_element\n",
        "    prime_tail = current_element\n",
        "    print(\"Value of the Head:\", prime_head.value)\n",
        "    print(\"Value of the Tail:\", prime_tail.value)\n",
        "else:\n",
        "    print(\"No prime numbers found.\")\n"
      ]
    }
  ]
}