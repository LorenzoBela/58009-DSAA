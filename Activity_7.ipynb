{
  "nbformat": 4,
  "nbformat_minor": 0,
  "metadata": {
    "colab": {
      "provenance": [],
      "authorship_tag": "ABX9TyPhPvakX9VVhDaTPO2Bgz5L",
      "include_colab_link": true
    },
    "kernelspec": {
      "name": "python3",
      "display_name": "Python 3"
    },
    "language_info": {
      "name": "python"
    }
  },
  "cells": [
    {
      "cell_type": "markdown",
      "metadata": {
        "id": "view-in-github",
        "colab_type": "text"
      },
      "source": [
        "<a href=\"https://colab.research.google.com/github/LorenzoBela/58009-DSAA/blob/main/Activity_7.ipynb\" target=\"_parent\"><img src=\"https://colab.research.google.com/assets/colab-badge.svg\" alt=\"Open In Colab\"/></a>"
      ]
    },
    {
      "cell_type": "code",
      "execution_count": 3,
      "metadata": {
        "colab": {
          "base_uri": "https://localhost:8080/"
        },
        "id": "jXz73PppAQ8-",
        "outputId": "6b1a6f67-4b92-476b-d80a-f9e3bbef111b"
      },
      "outputs": [
        {
          "output_type": "stream",
          "name": "stdout",
          "text": [
            "[{'b', 'a'}, {'a', 'c'}, {'d', 'b'}, {'d', 'c'}, {'d', 'e'}]\n"
          ]
        }
      ],
      "source": [
        "class Graph:\n",
        "    def __init__(self, gdict=None):\n",
        "        if gdict is None:\n",
        "            gdict = {}\n",
        "        self.gdict = gdict\n",
        "\n",
        "    def edges(self):\n",
        "        return self.find_edges()\n",
        "\n",
        "    # Find the distinct list of edges\n",
        "    def find_edges(self):\n",
        "        edge_names = []\n",
        "        for vertex in self.gdict:\n",
        "            for next_vertex in self.gdict[vertex]:\n",
        "                if {next_vertex, vertex} not in edge_names:\n",
        "                    edge_names.append({vertex, next_vertex})\n",
        "        return edge_names\n",
        "\n",
        "# Create the dictionary with graph elements\n",
        "graph_elements = {\"a\": [\"b\", \"c\"],\n",
        "                  \"b\": [\"a\", \"d\"],\n",
        "                  \"c\": [\"a\", \"d\"],\n",
        "                  \"d\": [\"e\"],\n",
        "                  \"e\": [\"d\"]}\n",
        "g = Graph(graph_elements)\n",
        "print(g.edges())"
      ]
    },
    {
      "cell_type": "code",
      "source": [
        "class Graph:\n",
        "    def __init__(self, gdict=None):\n",
        "        if gdict is None:\n",
        "            gdict = {}\n",
        "        self.gdict = gdict\n",
        "\n",
        "    def get_vertices(self):\n",
        "        return list(self.gdict.keys())\n",
        "\n",
        "# Create the dictionary with graph elements\n",
        "graph_elements = {\"a\": [\"b\", \"c\"],\n",
        "                  \"b\": [\"a\", \"d\"],\n",
        "                  \"c\": [\"a\", \"d\"],\n",
        "                  \"d\": [\"e\"],\n",
        "                  \"e\": [\"d\"]}\n",
        "g = Graph(graph_elements)\n",
        "print(g.get_vertices())\n"
      ],
      "metadata": {
        "colab": {
          "base_uri": "https://localhost:8080/"
        },
        "id": "MHNY-5DxXzZX",
        "outputId": "79b86332-3d62-4d6b-8fef-0fdd6e6c8820"
      },
      "execution_count": 10,
      "outputs": [
        {
          "output_type": "stream",
          "name": "stdout",
          "text": [
            "['a', 'b', 'c', 'd', 'e']\n"
          ]
        }
      ]
    },
    {
      "cell_type": "code",
      "source": [
        "class Graph:\n",
        "    def __init__(self, gdict=None):\n",
        "        if gdict is None:\n",
        "            gdict = {}\n",
        "        self.gdict = gdict\n",
        "\n",
        "    def edges(self):\n",
        "        return self.find_edges()\n",
        "\n",
        "\n",
        "    def find_edges(self):\n",
        "        edge_names = []\n",
        "        for vertex in self.gdict:\n",
        "            for next_vertex in self.gdict[vertex]:\n",
        "                if {next_vertex, vertex} not in edge_names:\n",
        "                    edge_names.append({vertex, next_vertex})\n",
        "        return edge_names\n",
        "\n",
        "\n",
        "graph_elements = {1: [2, 3, 5, 6],\n",
        "                  2: [1, 3, 5, 6],\n",
        "                  3: [1, 2, 4, 5],\n",
        "                  4: [2, 3],\n",
        "                  5: [1, 2, 3],\n",
        "                  6: [1, 2]\n",
        "                  }\n",
        "g = Graph(graph_elements)\n",
        "print(g.edges())"
      ],
      "metadata": {
        "colab": {
          "base_uri": "https://localhost:8080/"
        },
        "id": "A4hPHuspNfhO",
        "outputId": "516442d4-098f-407a-b4f3-ff995d3aa745"
      },
      "execution_count": 7,
      "outputs": [
        {
          "output_type": "stream",
          "name": "stdout",
          "text": [
            "[{1, 2}, {1, 3}, {1, 5}, {1, 6}, {2, 3}, {2, 5}, {2, 6}, {3, 4}, {3, 5}, {2, 4}]\n"
          ]
        }
      ]
    },
    {
      "cell_type": "code",
      "source": [
        "class Graph:\n",
        "    def __init__(self, gdict=None):\n",
        "        if gdict is None:\n",
        "            gdict = {}\n",
        "        self.gdict = gdict\n",
        "\n",
        "    def get_vertices(self):\n",
        "        return list(self.gdict.keys())\n",
        "\n",
        "graph_elements = {1: [2, 3, 5, 6],\n",
        "                  2: [1, 3, 4, 5, 6],\n",
        "                  3: [1, 2, 4, 5],\n",
        "                  4: [2, 3],\n",
        "                  5: [1, 2, 3],\n",
        "                  6: [1, 2]\n",
        "                  }\n",
        "g = Graph(graph_elements)\n",
        "print(g.get_vertices())"
      ],
      "metadata": {
        "colab": {
          "base_uri": "https://localhost:8080/"
        },
        "id": "5XTdQV2kU6rk",
        "outputId": "6c5a3415-b046-4dbf-88bc-99d6f30b49d1"
      },
      "execution_count": 9,
      "outputs": [
        {
          "output_type": "stream",
          "name": "stdout",
          "text": [
            "[1, 2, 3, 4, 5, 6]\n"
          ]
        }
      ]
    }
  ]
}